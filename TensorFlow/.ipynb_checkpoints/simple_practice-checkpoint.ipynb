{
 "cells": [
  {
   "cell_type": "markdown",
   "metadata": {},
   "source": [
    "## 简单例子"
   ]
  },
  {
   "cell_type": "code",
   "execution_count": 2,
   "metadata": {
    "collapsed": true
   },
   "outputs": [],
   "source": [
    "import tensorflow as tf\n",
    "import numpy as np"
   ]
  },
  {
   "cell_type": "code",
   "execution_count": 3,
   "metadata": {
    "collapsed": true
   },
   "outputs": [],
   "source": [
    "# create data\n",
    "x_data = np.random.rand(100).astype(np.float32)\n",
    "y_data = x_data*0.1 + 0.3"
   ]
  },
  {
   "cell_type": "code",
   "execution_count": 10,
   "metadata": {},
   "outputs": [
    {
     "name": "stdout",
     "output_type": "stream",
     "text": [
      "WARNING:tensorflow:From F:\\anaconda3\\lib\\site-packages\\tensorflow\\python\\util\\tf_should_use.py:170: initialize_all_variables (from tensorflow.python.ops.variables) is deprecated and will be removed after 2017-03-02.\n",
      "Instructions for updating:\n",
      "Use `tf.global_variables_initializer` instead.\n"
     ]
    }
   ],
   "source": [
    "### create tensorflow structure start ###\n",
    "Weights = tf.Variable(tf.random_uniform([1], -1.0, 1.0))\n",
    "biases = tf.Variable(tf.zeros([1]))\n",
    "\n",
    "y = Weights*x_data + biases\n",
    "\n",
    "loss = tf.reduce_mean(tf.square(y - y_data))\n",
    "\n",
    "optimizer = tf.train.GradientDescentOptimizer(0.5)\n",
    "# source code: opt = GradientDescentOptimizer(learning_rate=0.1)\n",
    "\n",
    "train = optimizer.minimize(loss)\n",
    "# source code:opt_op = opt.minimize(cost, var_list=<list of variables>)\n",
    "init = tf.initialize_all_variables()\n",
    "###create tensorflow structure end###"
   ]
  },
  {
   "cell_type": "markdown",
   "metadata": {},
   "source": [
    "'x' is [[1,1,1]\n",
    "\n",
    "\t [1,1,1]]\n",
    "\n",
    "tf.reduce_sum(x)   ==>6\n",
    "\n",
    "tf.reduce_sum(x,0)   ==>[2, 2, 2]\n",
    "\n",
    "tf.reduce_sum(x,1)   ==>[3, 3]\n",
    "\n",
    "tf.reduce_sum(x, 1, keep_dims=True)   ==>[[3], [3]]\n",
    "\n",
    "tf.reduce_sum(x, [0,1]) ==> 6\n"
   ]
  },
  {
   "cell_type": "code",
   "execution_count": 11,
   "metadata": {
    "collapsed": true
   },
   "outputs": [],
   "source": [
    "sess = tf.Session()\n",
    "sess.run(init)"
   ]
  },
  {
   "cell_type": "code",
   "execution_count": 13,
   "metadata": {},
   "outputs": [
    {
     "name": "stdout",
     "output_type": "stream",
     "text": [
      "0 [-0.5619424] [ 0.58726048]\n",
      "20 [-0.07017504] [ 0.38675165]\n",
      "40 [ 0.05486614] [ 0.3230083]\n",
      "60 [ 0.08802959] [ 0.30610228]\n",
      "80 [ 0.0968252] [ 0.30161846]\n",
      "100 [ 0.09915797] [ 0.30042925]\n",
      "120 [ 0.09977669] [ 0.30011386]\n",
      "140 [ 0.09994077] [ 0.3000302]\n",
      "160 [ 0.09998429] [ 0.30000803]\n",
      "180 [ 0.09999584] [ 0.30000213]\n",
      "200 [ 0.09999889] [ 0.30000058]\n"
     ]
    }
   ],
   "source": [
    "for step in range(201):\n",
    "    sess.run(train)\n",
    "    if step % 20 ==0:\n",
    "        print(step,sess.run(Weights),sess.run(biases))"
   ]
  },
  {
   "cell_type": "code",
   "execution_count": null,
   "metadata": {
    "collapsed": true
   },
   "outputs": [],
   "source": []
  }
 ],
 "metadata": {
  "kernelspec": {
   "display_name": "Python 3",
   "language": "python",
   "name": "python3"
  },
  "language_info": {
   "codemirror_mode": {
    "name": "ipython",
    "version": 3
   },
   "file_extension": ".py",
   "mimetype": "text/x-python",
   "name": "python",
   "nbconvert_exporter": "python",
   "pygments_lexer": "ipython3",
   "version": "3.6.1"
  }
 },
 "nbformat": 4,
 "nbformat_minor": 2
}
