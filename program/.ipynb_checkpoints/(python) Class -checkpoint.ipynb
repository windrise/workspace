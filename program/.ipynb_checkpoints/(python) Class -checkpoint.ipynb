{
 "cells": [
  {
   "cell_type": "markdown",
   "metadata": {},
   "source": [
    "# class and object"
   ]
  },
  {
   "cell_type": "markdown",
   "metadata": {},
   "source": [
    "## class"
   ]
  },
  {
   "cell_type": "code",
   "execution_count": 7,
   "metadata": {
    "collapsed": true
   },
   "outputs": [],
   "source": [
    "#define a class\n",
    "class Account(object):\n",
    "    num_accounts = 0\n",
    "    def __init__(self,name,balance) :\n",
    "        self.name = name\n",
    "        self.balance = balance\n",
    "        Account.num_accounts += 1\n",
    "        \n",
    "    def __del__(self) :\n",
    "        Account.num_accounts -= 1 \n",
    "        \n",
    "    def deposit(self,amt) :\n",
    "        self.balance = self.balance + amt\n",
    "    \n",
    "    def withdraw(self,amt) :\n",
    "        self.balance = self.balance - amt\n",
    "        \n",
    "    def inquiry(self) :\n",
    "        return self.balance"
   ]
  },
  {
   "cell_type": "markdown",
   "metadata": {},
   "source": [
    "> the way to visit a member of class:   \n",
    "> Account.num_accounts  \n",
    "> Account.__init__  \n",
    "> Account.__del__  \n",
    "> Account.deposit  \n",
    "> ...  "
   ]
  },
  {
   "cell_type": "markdown",
   "metadata": {},
   "source": [
    "## class instance"
   ]
  },
  {
   "cell_type": "markdown",
   "metadata": {},
   "source": [
    "### In class, the functions defined  are called the __instance method__. The instance method is a function to   operating the instance of the class. Such as, deposit(), withdraw() and inquiry() are both __instance method__    \n",
    "> __class variable__ (such as num_accounts) is ___the value that could be shared among the instances___  In fact,   \n",
    "> in last example,the __num_accounts__ variable is applied to follow the number of the Account instance"
   ]
  },
  {
   "cell_type": "code",
   "execution_count": 8,
   "metadata": {},
   "outputs": [],
   "source": [
    "# create some Account instance \n",
    "a = Account(\"xueming\", 1000.00)  # call Account.__init__(a,\"xueming\",1000.00)\n",
    "b = Account(\"Bill\", 10.00)"
   ]
  },
  {
   "cell_type": "markdown",
   "metadata": {},
   "source": [
    "> In the __init__(), by distibuting attribute to self to save it to the instance. For example, self.name = name means   \n",
    "> save the __name__ attribution to the instance. After creating the instance to the user, using __.__ operator can visit  \n",
    "> these attributions and class's attributions"
   ]
  },
  {
   "cell_type": "code",
   "execution_count": 9,
   "metadata": {},
   "outputs": [],
   "source": [
    "a.deposit(100.00) # call Account.deposit(a,100.00)\n",
    "b.withdraw(50.00) # call Account.withdraw(b,50.00)\n",
    "name = a.name     # get the account's name"
   ]
  },
  {
   "cell_type": "markdown",
   "metadata": {},
   "source": [
    "## the scpoe rules(the range rules)"
   ]
  },
  {
   "cell_type": "markdown",
   "metadata": {},
   "source": [
    "> In the __method__, only through __self__  to quote the attributions of instances."
   ]
  },
  {
   "cell_type": "code",
   "execution_count": 15,
   "metadata": {
    "collapsed": true
   },
   "outputs": [],
   "source": [
    "class Foo(object):\n",
    "    def bar(self):\n",
    "        print(\"bar!\")\n",
    "    def spam(self):\n",
    "#        bar(self)        #error! \n",
    "        self.bar()       #Right!\n",
    "        Foo.bar(self)    #Right!"
   ]
  },
  {
   "cell_type": "code",
   "execution_count": 16,
   "metadata": {
    "collapsed": true
   },
   "outputs": [],
   "source": [
    "fu = Foo()"
   ]
  },
  {
   "cell_type": "code",
   "execution_count": 17,
   "metadata": {},
   "outputs": [
    {
     "name": "stdout",
     "output_type": "stream",
     "text": [
      "bar!\n",
      "bar!\n",
      "bar!\n"
     ]
    }
   ],
   "source": [
    "fu.bar()\n",
    "fu.spam()"
   ]
  },
  {
   "cell_type": "code",
   "execution_count": null,
   "metadata": {
    "collapsed": true
   },
   "outputs": [],
   "source": []
  }
 ],
 "metadata": {
  "kernelspec": {
   "display_name": "Python 3",
   "language": "python",
   "name": "python3"
  },
  "language_info": {
   "codemirror_mode": {
    "name": "ipython",
    "version": 3
   },
   "file_extension": ".py",
   "mimetype": "text/x-python",
   "name": "python",
   "nbconvert_exporter": "python",
   "pygments_lexer": "ipython3",
   "version": "3.5.2"
  }
 },
 "nbformat": 4,
 "nbformat_minor": 2
}
