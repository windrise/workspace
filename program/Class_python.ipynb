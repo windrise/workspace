{
 "cells": [
  {
   "cell_type": "markdown",
   "metadata": {},
   "source": [
    "# class and object"
   ]
  },
  {
   "cell_type": "markdown",
   "metadata": {},
   "source": [
    "## class"
   ]
  },
  {
   "cell_type": "code",
   "execution_count": 75,
   "metadata": {
    "collapsed": true
   },
   "outputs": [],
   "source": [
    "#define a class\n",
    "class Account(object):\n",
    "    num_accounts = 0\n",
    "    def __init__(self,name,balance) :\n",
    "        self.name = name\n",
    "        self.balance = balance\n",
    "        Account.num_accounts += 1\n",
    "        \n",
    "    def __del__(self) :\n",
    "        Account.num_accounts -= 1 \n",
    "        \n",
    "    def deposit(self,amt) :\n",
    "        self.balance = self.balance + amt\n",
    "    \n",
    "    def withdraw(self,amt) :\n",
    "        self.balance = self.balance - amt\n",
    "        \n",
    "    def inquiry(self) :\n",
    "        return self.balance"
   ]
  },
  {
   "cell_type": "markdown",
   "metadata": {},
   "source": [
    "> the way to visit a member of class:   \n",
    "> Account.num_accounts  \n",
    "> Account.__init__  \n",
    "> Account.__del__  \n",
    "> Account.deposit  \n",
    "> ...  "
   ]
  },
  {
   "cell_type": "markdown",
   "metadata": {},
   "source": [
    "## class instance"
   ]
  },
  {
   "cell_type": "markdown",
   "metadata": {},
   "source": [
    "### In class, the functions defined  are called the __instance method__. The instance method is a function to   operating the instance of the class. Such as, deposit(), withdraw() and inquiry() are both __instance method__    \n",
    "> __class variable__ (such as num_accounts) is ___the value that could be shared among the instances___  In fact,   \n",
    "> in last example,the __num_accounts__ variable is applied to follow the number of the Account instance"
   ]
  },
  {
   "cell_type": "code",
   "execution_count": 76,
   "metadata": {
    "collapsed": true
   },
   "outputs": [],
   "source": [
    "# create some Account instance \n",
    "a = Account(\"xueming\", 1000.00)  # call Account.__init__(a,\"xueming\",1000.00)\n",
    "b = Account(\"Bill\", 10.00)"
   ]
  },
  {
   "cell_type": "markdown",
   "metadata": {},
   "source": [
    "> In the __init__(), by distibuting attribute to self to save it to the instance. For example, self.name = name means   \n",
    "> save the __name__ attribution to the instance. After creating the instance to the user, using __.__ operator can visit  \n",
    "> these attributions and class's attributions"
   ]
  },
  {
   "cell_type": "code",
   "execution_count": 77,
   "metadata": {
    "collapsed": true
   },
   "outputs": [],
   "source": [
    "a.deposit(100.00) # call Account.deposit(a,100.00)\n",
    "b.withdraw(50.00) # call Account.withdraw(b,50.00)\n",
    "name = a.name     # get the account's name"
   ]
  },
  {
   "cell_type": "markdown",
   "metadata": {},
   "source": [
    "## the scpoe rules(the range rules)"
   ]
  },
  {
   "cell_type": "markdown",
   "metadata": {},
   "source": [
    "> In the __method__, only through __self__  to quote the attributions of instances."
   ]
  },
  {
   "cell_type": "code",
   "execution_count": 78,
   "metadata": {
    "collapsed": true
   },
   "outputs": [],
   "source": [
    "class Foo(object):\n",
    "    def bar(self):\n",
    "        print(\"bar!\")\n",
    "    def spam(self):\n",
    "#        bar(self)        #error! \n",
    "        self.bar()       #Right!\n",
    "        Foo.bar(self)    #Right!"
   ]
  },
  {
   "cell_type": "code",
   "execution_count": 79,
   "metadata": {
    "collapsed": true
   },
   "outputs": [],
   "source": [
    "fu = Foo()"
   ]
  },
  {
   "cell_type": "code",
   "execution_count": 80,
   "metadata": {},
   "outputs": [
    {
     "name": "stdout",
     "output_type": "stream",
     "text": [
      "bar!\n",
      "bar!\n",
      "bar!\n"
     ]
    }
   ],
   "source": [
    "fu.bar()\n",
    "fu.spam()"
   ]
  },
  {
   "cell_type": "markdown",
   "metadata": {},
   "source": [
    "## Succeed"
   ]
  },
  {
   "cell_type": "markdown",
   "metadata": {},
   "source": [
    "#### Succeed is a method to create a new class, so that to use of modify the current class."
   ]
  },
  {
   "cell_type": "code",
   "execution_count": 81,
   "metadata": {
    "collapsed": true
   },
   "outputs": [],
   "source": [
    "import random \n"
   ]
  },
  {
   "cell_type": "code",
   "execution_count": 82,
   "metadata": {
    "collapsed": true
   },
   "outputs": [],
   "source": [
    "class EvilAccount(Account):\n",
    "    def inquiry(self):\n",
    "        if random.randint(0,4) == 1:\n",
    "            return self.balance * 1.10 #\n",
    "        else:\n",
    "            return self.balance"
   ]
  },
  {
   "cell_type": "code",
   "execution_count": 83,
   "metadata": {
    "collapsed": true
   },
   "outputs": [],
   "source": [
    "c = EvilAccount(\"xue\", 1000.00)\n",
    "c.deposit(10.0)  # call Account.deposit(c,10.0)"
   ]
  },
  {
   "cell_type": "code",
   "execution_count": 84,
   "metadata": {},
   "outputs": [
    {
     "data": {
      "text/plain": [
       "1010.0"
      ]
     },
     "execution_count": 84,
     "metadata": {},
     "output_type": "execute_result"
    }
   ],
   "source": [
    "c.balance"
   ]
  },
  {
   "cell_type": "code",
   "execution_count": 85,
   "metadata": {
    "collapsed": true
   },
   "outputs": [],
   "source": [
    "available = c.inquiry()  # call EvilAccount.inquiry(c)"
   ]
  },
  {
   "cell_type": "code",
   "execution_count": 86,
   "metadata": {},
   "outputs": [
    {
     "data": {
      "text/plain": [
       "1010.0"
      ]
     },
     "execution_count": 86,
     "metadata": {},
     "output_type": "execute_result"
    }
   ],
   "source": [
    "available"
   ]
  },
  {
   "cell_type": "code",
   "execution_count": 87,
   "metadata": {},
   "outputs": [],
   "source": [
    "#derived class\n",
    "class Evil2Account(Account):\n",
    "    def __init__(self,name,balance,evilfactor):\n",
    "        Account.__init__(self,name,balance)  # initialize account\n",
    "        self.evilfactor = evilfactor\n",
    "    def inquiry(self):\n",
    "        if random.randint(0,4) == 1:\n",
    "            return self.balance * 1.10 #\n",
    "        else:\n",
    "            return self.balance"
   ]
  },
  {
   "cell_type": "markdown",
   "metadata": {},
   "source": [
    "###  rereleaze the method 派生类将要重新定义实现方法\n",
    "> super（cls,instance）会返回一个特殊的对象，该对象支持在基类上执行属性查找"
   ]
  },
  {
   "cell_type": "code",
   "execution_count": 93,
   "metadata": {},
   "outputs": [],
   "source": [
    "class MoreEvil2Account(Evil2Account):\n",
    "    def deposit(self,amount):\n",
    "        self.withdraw(5.00)\n",
    "        super(MoreEvil2Account,self).deposit(amount)"
   ]
  },
  {
   "cell_type": "markdown",
   "metadata": {
    "collapsed": true
   },
   "source": [
    "### python 支持多重继承"
   ]
  },
  {
   "cell_type": "code",
   "execution_count": 94,
   "metadata": {},
   "outputs": [],
   "source": [
    "class DepositCharge(object):\n",
    "    fee = 5.00\n",
    "    def deposit_fee(self):\n",
    "        self.withdraw(self.fee)\n",
    "class WithdrawCharge(object):\n",
    "    fee = 2.5\n",
    "    def withdraw_fee(self):\n",
    "        self.withdraw(self.fee)"
   ]
  },
  {
   "cell_type": "code",
   "execution_count": 98,
   "metadata": {},
   "outputs": [],
   "source": [
    "#使用多重类\n",
    "class MostEvilAccount(Evil2Account, DepositCharge, WithdrawCharge):\n",
    "    def deposit(self,amt):\n",
    "        DepositCharge.fee.deposit_fee()\n",
    "        super(MostEvilAccount, self).deposit(amt)\n",
    "    def withdraw(self,amt):\n",
    "        WithdrawCharge.fee.withdraw_fee()\n",
    "        super(MostEvilAccount, self).withdraw(amt)"
   ]
  },
  {
   "cell_type": "code",
   "execution_count": 99,
   "metadata": {},
   "outputs": [],
   "source": [
    "d = MostEvilAccount(\"Dave\",500.00,1.10)"
   ]
  },
  {
   "cell_type": "code",
   "execution_count": 101,
   "metadata": {
    "scrolled": true
   },
   "outputs": [
    {
     "ename": "AttributeError",
     "evalue": "'float' object has no attribute 'withdraw_fee'",
     "output_type": "error",
     "traceback": [
      "\u001b[1;31m---------------------------------------------------------------------------\u001b[0m",
      "\u001b[1;31mAttributeError\u001b[0m                            Traceback (most recent call last)",
      "\u001b[1;32m<ipython-input-101-98da18062231>\u001b[0m in \u001b[0;36m<module>\u001b[1;34m()\u001b[0m\n\u001b[1;32m----> 1\u001b[1;33m \u001b[0md\u001b[0m\u001b[1;33m.\u001b[0m\u001b[0mdeposit_fee\u001b[0m\u001b[1;33m(\u001b[0m\u001b[1;33m)\u001b[0m\u001b[1;33m\u001b[0m\u001b[0m\n\u001b[0m",
      "\u001b[1;32m<ipython-input-94-bb20dbb3ab02>\u001b[0m in \u001b[0;36mdeposit_fee\u001b[1;34m(self)\u001b[0m\n\u001b[0;32m      2\u001b[0m     \u001b[0mfee\u001b[0m \u001b[1;33m=\u001b[0m \u001b[1;36m5.00\u001b[0m\u001b[1;33m\u001b[0m\u001b[0m\n\u001b[0;32m      3\u001b[0m     \u001b[1;32mdef\u001b[0m \u001b[0mdeposit_fee\u001b[0m\u001b[1;33m(\u001b[0m\u001b[0mself\u001b[0m\u001b[1;33m)\u001b[0m\u001b[1;33m:\u001b[0m\u001b[1;33m\u001b[0m\u001b[0m\n\u001b[1;32m----> 4\u001b[1;33m         \u001b[0mself\u001b[0m\u001b[1;33m.\u001b[0m\u001b[0mwithdraw\u001b[0m\u001b[1;33m(\u001b[0m\u001b[0mself\u001b[0m\u001b[1;33m.\u001b[0m\u001b[0mfee\u001b[0m\u001b[1;33m)\u001b[0m\u001b[1;33m\u001b[0m\u001b[0m\n\u001b[0m\u001b[0;32m      5\u001b[0m \u001b[1;32mclass\u001b[0m \u001b[0mWithdrawCharge\u001b[0m\u001b[1;33m(\u001b[0m\u001b[0mobject\u001b[0m\u001b[1;33m)\u001b[0m\u001b[1;33m:\u001b[0m\u001b[1;33m\u001b[0m\u001b[0m\n\u001b[0;32m      6\u001b[0m     \u001b[0mfee\u001b[0m \u001b[1;33m=\u001b[0m \u001b[1;36m2.5\u001b[0m\u001b[1;33m\u001b[0m\u001b[0m\n",
      "\u001b[1;32m<ipython-input-98-8ff75ab09384>\u001b[0m in \u001b[0;36mwithdraw\u001b[1;34m(self, amt)\u001b[0m\n\u001b[0;32m      5\u001b[0m         \u001b[0msuper\u001b[0m\u001b[1;33m(\u001b[0m\u001b[0mMostEvilAccount\u001b[0m\u001b[1;33m,\u001b[0m \u001b[0mself\u001b[0m\u001b[1;33m)\u001b[0m\u001b[1;33m.\u001b[0m\u001b[0mdeposit\u001b[0m\u001b[1;33m(\u001b[0m\u001b[0mamt\u001b[0m\u001b[1;33m)\u001b[0m\u001b[1;33m\u001b[0m\u001b[0m\n\u001b[0;32m      6\u001b[0m     \u001b[1;32mdef\u001b[0m \u001b[0mwithdraw\u001b[0m\u001b[1;33m(\u001b[0m\u001b[0mself\u001b[0m\u001b[1;33m,\u001b[0m\u001b[0mamt\u001b[0m\u001b[1;33m)\u001b[0m\u001b[1;33m:\u001b[0m\u001b[1;33m\u001b[0m\u001b[0m\n\u001b[1;32m----> 7\u001b[1;33m         \u001b[0mWithdrawCharge\u001b[0m\u001b[1;33m.\u001b[0m\u001b[0mfee\u001b[0m\u001b[1;33m.\u001b[0m\u001b[0mwithdraw_fee\u001b[0m\u001b[1;33m(\u001b[0m\u001b[1;33m)\u001b[0m\u001b[1;33m\u001b[0m\u001b[0m\n\u001b[0m\u001b[0;32m      8\u001b[0m         \u001b[0msuper\u001b[0m\u001b[1;33m(\u001b[0m\u001b[0mMostEvilAccount\u001b[0m\u001b[1;33m,\u001b[0m \u001b[0mself\u001b[0m\u001b[1;33m)\u001b[0m\u001b[1;33m.\u001b[0m\u001b[0mwithdraw\u001b[0m\u001b[1;33m(\u001b[0m\u001b[0mamt\u001b[0m\u001b[1;33m)\u001b[0m\u001b[1;33m\u001b[0m\u001b[0m\n",
      "\u001b[1;31mAttributeError\u001b[0m: 'float' object has no attribute 'withdraw_fee'"
     ]
    }
   ],
   "source": [
    "d.deposit_fee()"
   ]
  },
  {
   "cell_type": "code",
   "execution_count": null,
   "metadata": {
    "collapsed": true
   },
   "outputs": [],
   "source": []
  }
 ],
 "metadata": {
  "kernelspec": {
   "display_name": "Python 3",
   "language": "python",
   "name": "python3"
  },
  "language_info": {
   "codemirror_mode": {
    "name": "ipython",
    "version": 3
   },
   "file_extension": ".py",
   "mimetype": "text/x-python",
   "name": "python",
   "nbconvert_exporter": "python",
   "pygments_lexer": "ipython3",
   "version": "3.6.1"
  }
 },
 "nbformat": 4,
 "nbformat_minor": 2
}
